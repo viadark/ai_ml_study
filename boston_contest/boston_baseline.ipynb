{
 "cells": [
  {
   "cell_type": "code",
   "execution_count": 1,
   "metadata": {},
   "outputs": [],
   "source": [
    "import pickle\n",
    "import pandas as pd\n",
    "import numpy as np\n",
    "import matplotlib.pyplot as pp\n",
    "from sklearn.linear_model import LinearRegression\n",
    "from sklearn.model_selection import train_test_split\n",
    "from sklearn.preprocessing import MinMaxScaler\n",
    "from sklearn.preprocessing import RobustScaler\n",
    "from sklearn.preprocessing import MaxAbsScaler\n",
    "from sklearn.preprocessing import StandardScaler\n",
    "from sklearn.base import TransformerMixin\n",
    "from sklearn.pipeline import Pipeline"
   ]
  },
  {
   "cell_type": "markdown",
   "id": "6a56d4df",
   "metadata": {},
   "source": [
    "Data description\n",
    "The Boston data frame has 506 rows and 14 columns.\n",
    "\n",
    "This data frame contains the following columns:\n",
    "\n",
    "crim\n",
    "per capita crime rate by town.\n",
    "\n",
    "zn\n",
    "proportion of residential land zoned for lots over 25,000 sq.ft.\n",
    "\n",
    "indus\n",
    "proportion of non-retail business acres per town.\n",
    "\n",
    "chas\n",
    "Charles River dummy variable (= 1 if tract bounds river; 0 otherwise).\n",
    "\n",
    "nox\n",
    "nitrogen oxides concentration (parts per 10 million).\n",
    "\n",
    "rm\n",
    "average number of rooms per dwelling.\n",
    "\n",
    "age\n",
    "proportion of owner-occupied units built prior to 1940.\n",
    "\n",
    "dis\n",
    "weighted mean of distances to five Boston employment centres.\n",
    "\n",
    "rad\n",
    "index of accessibility to radial highways.\n",
    "\n",
    "tax\n",
    "full-value property-tax rate per \\$10,000.\n",
    "\n",
    "ptratio\n",
    "pupil-teacher ratio by town.\n",
    "\n",
    "black\n",
    "1000(Bk - 0.63)^2 where Bk is the proportion of blacks by town.\n",
    "\n",
    "lstat\n",
    "lower status of the population (percent).\n",
    "\n",
    "medv\n",
    "median value of owner-occupied homes in \\$1000s."
   ]
  },
  {
   "cell_type": "code",
   "execution_count": 2,
   "metadata": {},
   "outputs": [],
   "source": [
    "#data = pd.read_csv('./boston_contest.csv')\n",
    "data = pd.read_csv('./boston_contest_fillna.csv')"
   ]
  },
  {
   "cell_type": "code",
   "execution_count": 3,
   "metadata": {},
   "outputs": [
    {
     "data": {
      "text/html": [
       "<div>\n",
       "<style scoped>\n",
       "    .dataframe tbody tr th:only-of-type {\n",
       "        vertical-align: middle;\n",
       "    }\n",
       "\n",
       "    .dataframe tbody tr th {\n",
       "        vertical-align: top;\n",
       "    }\n",
       "\n",
       "    .dataframe thead th {\n",
       "        text-align: right;\n",
       "    }\n",
       "</style>\n",
       "<table border=\"1\" class=\"dataframe\">\n",
       "  <thead>\n",
       "    <tr style=\"text-align: right;\">\n",
       "      <th></th>\n",
       "      <th>CRIM</th>\n",
       "      <th>ZN</th>\n",
       "      <th>INDUS</th>\n",
       "      <th>CHAS</th>\n",
       "      <th>NOX</th>\n",
       "      <th>RM</th>\n",
       "      <th>AGE</th>\n",
       "      <th>DIS</th>\n",
       "      <th>RAD</th>\n",
       "      <th>TAX</th>\n",
       "      <th>PTRATIO</th>\n",
       "      <th>B</th>\n",
       "      <th>LSTAT</th>\n",
       "      <th>MDEV</th>\n",
       "    </tr>\n",
       "  </thead>\n",
       "  <tbody>\n",
       "    <tr>\n",
       "      <th>0</th>\n",
       "      <td>0.00632</td>\n",
       "      <td>18.0</td>\n",
       "      <td>2.31</td>\n",
       "      <td>0</td>\n",
       "      <td>0.538</td>\n",
       "      <td>6.575</td>\n",
       "      <td>65.2</td>\n",
       "      <td>4.0900</td>\n",
       "      <td>1</td>\n",
       "      <td>296</td>\n",
       "      <td>15.3</td>\n",
       "      <td>396.90</td>\n",
       "      <td>4.98</td>\n",
       "      <td>24.0</td>\n",
       "    </tr>\n",
       "    <tr>\n",
       "      <th>1</th>\n",
       "      <td>0.02731</td>\n",
       "      <td>0.0</td>\n",
       "      <td>7.07</td>\n",
       "      <td>0</td>\n",
       "      <td>0.469</td>\n",
       "      <td>6.421</td>\n",
       "      <td>78.9</td>\n",
       "      <td>4.9671</td>\n",
       "      <td>2</td>\n",
       "      <td>242</td>\n",
       "      <td>17.8</td>\n",
       "      <td>396.90</td>\n",
       "      <td>9.14</td>\n",
       "      <td>21.6</td>\n",
       "    </tr>\n",
       "    <tr>\n",
       "      <th>2</th>\n",
       "      <td>0.02729</td>\n",
       "      <td>0.0</td>\n",
       "      <td>7.07</td>\n",
       "      <td>0</td>\n",
       "      <td>0.469</td>\n",
       "      <td>7.185</td>\n",
       "      <td>61.1</td>\n",
       "      <td>4.9671</td>\n",
       "      <td>2</td>\n",
       "      <td>242</td>\n",
       "      <td>17.8</td>\n",
       "      <td>392.83</td>\n",
       "      <td>4.03</td>\n",
       "      <td>34.7</td>\n",
       "    </tr>\n",
       "    <tr>\n",
       "      <th>3</th>\n",
       "      <td>0.03237</td>\n",
       "      <td>0.0</td>\n",
       "      <td>2.18</td>\n",
       "      <td>0</td>\n",
       "      <td>0.458</td>\n",
       "      <td>6.998</td>\n",
       "      <td>45.8</td>\n",
       "      <td>6.0622</td>\n",
       "      <td>3</td>\n",
       "      <td>222</td>\n",
       "      <td>18.7</td>\n",
       "      <td>394.63</td>\n",
       "      <td>2.94</td>\n",
       "      <td>33.4</td>\n",
       "    </tr>\n",
       "    <tr>\n",
       "      <th>4</th>\n",
       "      <td>0.06905</td>\n",
       "      <td>0.0</td>\n",
       "      <td>2.18</td>\n",
       "      <td>0</td>\n",
       "      <td>0.458</td>\n",
       "      <td>7.147</td>\n",
       "      <td>54.2</td>\n",
       "      <td>6.0622</td>\n",
       "      <td>3</td>\n",
       "      <td>222</td>\n",
       "      <td>18.7</td>\n",
       "      <td>396.90</td>\n",
       "      <td>5.33</td>\n",
       "      <td>36.2</td>\n",
       "    </tr>\n",
       "  </tbody>\n",
       "</table>\n",
       "</div>"
      ],
      "text/plain": [
       "      CRIM    ZN  INDUS  CHAS    NOX     RM   AGE     DIS  RAD  TAX  PTRATIO  \\\n",
       "0  0.00632  18.0   2.31     0  0.538  6.575  65.2  4.0900    1  296     15.3   \n",
       "1  0.02731   0.0   7.07     0  0.469  6.421  78.9  4.9671    2  242     17.8   \n",
       "2  0.02729   0.0   7.07     0  0.469  7.185  61.1  4.9671    2  242     17.8   \n",
       "3  0.03237   0.0   2.18     0  0.458  6.998  45.8  6.0622    3  222     18.7   \n",
       "4  0.06905   0.0   2.18     0  0.458  7.147  54.2  6.0622    3  222     18.7   \n",
       "\n",
       "        B  LSTAT  MDEV  \n",
       "0  396.90   4.98  24.0  \n",
       "1  396.90   9.14  21.6  \n",
       "2  392.83   4.03  34.7  \n",
       "3  394.63   2.94  33.4  \n",
       "4  396.90   5.33  36.2  "
      ]
     },
     "execution_count": 3,
     "metadata": {},
     "output_type": "execute_result"
    }
   ],
   "source": [
    "data.head()"
   ]
  },
  {
   "cell_type": "code",
   "execution_count": 4,
   "id": "6c570b4b",
   "metadata": {},
   "outputs": [
    {
     "data": {
      "text/html": [
       "<div>\n",
       "<style scoped>\n",
       "    .dataframe tbody tr th:only-of-type {\n",
       "        vertical-align: middle;\n",
       "    }\n",
       "\n",
       "    .dataframe tbody tr th {\n",
       "        vertical-align: top;\n",
       "    }\n",
       "\n",
       "    .dataframe thead th {\n",
       "        text-align: right;\n",
       "    }\n",
       "</style>\n",
       "<table border=\"1\" class=\"dataframe\">\n",
       "  <thead>\n",
       "    <tr style=\"text-align: right;\">\n",
       "      <th></th>\n",
       "      <th>CRIM</th>\n",
       "      <th>ZN</th>\n",
       "      <th>INDUS</th>\n",
       "      <th>CHAS</th>\n",
       "      <th>NOX</th>\n",
       "      <th>RM</th>\n",
       "      <th>AGE</th>\n",
       "      <th>DIS</th>\n",
       "      <th>RAD</th>\n",
       "      <th>TAX</th>\n",
       "      <th>PTRATIO</th>\n",
       "      <th>B</th>\n",
       "      <th>LSTAT</th>\n",
       "      <th>MDEV</th>\n",
       "    </tr>\n",
       "  </thead>\n",
       "  <tbody>\n",
       "    <tr>\n",
       "      <th>count</th>\n",
       "      <td>476.000000</td>\n",
       "      <td>476.000000</td>\n",
       "      <td>476.000000</td>\n",
       "      <td>476.000000</td>\n",
       "      <td>476.000000</td>\n",
       "      <td>476.000000</td>\n",
       "      <td>476.000000</td>\n",
       "      <td>476.000000</td>\n",
       "      <td>476.000000</td>\n",
       "      <td>476.000000</td>\n",
       "      <td>476.000000</td>\n",
       "      <td>476.000000</td>\n",
       "      <td>476.000000</td>\n",
       "      <td>476.000000</td>\n",
       "    </tr>\n",
       "    <tr>\n",
       "      <th>mean</th>\n",
       "      <td>3.425809</td>\n",
       "      <td>11.911765</td>\n",
       "      <td>11.036513</td>\n",
       "      <td>0.071429</td>\n",
       "      <td>0.551840</td>\n",
       "      <td>6.298645</td>\n",
       "      <td>68.247059</td>\n",
       "      <td>3.842749</td>\n",
       "      <td>9.571429</td>\n",
       "      <td>408.466387</td>\n",
       "      <td>18.467017</td>\n",
       "      <td>355.221218</td>\n",
       "      <td>12.620756</td>\n",
       "      <td>22.773950</td>\n",
       "    </tr>\n",
       "    <tr>\n",
       "      <th>std</th>\n",
       "      <td>7.804001</td>\n",
       "      <td>23.668291</td>\n",
       "      <td>6.946327</td>\n",
       "      <td>0.257810</td>\n",
       "      <td>0.114333</td>\n",
       "      <td>0.713019</td>\n",
       "      <td>28.256380</td>\n",
       "      <td>2.127558</td>\n",
       "      <td>8.738369</td>\n",
       "      <td>169.182483</td>\n",
       "      <td>2.179615</td>\n",
       "      <td>93.688016</td>\n",
       "      <td>7.247511</td>\n",
       "      <td>9.367767</td>\n",
       "    </tr>\n",
       "    <tr>\n",
       "      <th>min</th>\n",
       "      <td>0.006320</td>\n",
       "      <td>0.000000</td>\n",
       "      <td>0.460000</td>\n",
       "      <td>0.000000</td>\n",
       "      <td>0.385000</td>\n",
       "      <td>3.561000</td>\n",
       "      <td>2.900000</td>\n",
       "      <td>1.129600</td>\n",
       "      <td>1.000000</td>\n",
       "      <td>187.000000</td>\n",
       "      <td>12.600000</td>\n",
       "      <td>0.320000</td>\n",
       "      <td>1.730000</td>\n",
       "      <td>5.000000</td>\n",
       "    </tr>\n",
       "    <tr>\n",
       "      <th>25%</th>\n",
       "      <td>0.080050</td>\n",
       "      <td>0.000000</td>\n",
       "      <td>5.085000</td>\n",
       "      <td>0.000000</td>\n",
       "      <td>0.448000</td>\n",
       "      <td>5.884750</td>\n",
       "      <td>44.225000</td>\n",
       "      <td>2.109150</td>\n",
       "      <td>4.000000</td>\n",
       "      <td>278.500000</td>\n",
       "      <td>17.375000</td>\n",
       "      <td>375.782500</td>\n",
       "      <td>6.840000</td>\n",
       "      <td>17.100000</td>\n",
       "    </tr>\n",
       "    <tr>\n",
       "      <th>50%</th>\n",
       "      <td>0.250895</td>\n",
       "      <td>0.000000</td>\n",
       "      <td>8.560000</td>\n",
       "      <td>0.000000</td>\n",
       "      <td>0.532000</td>\n",
       "      <td>6.214000</td>\n",
       "      <td>76.600000</td>\n",
       "      <td>3.275900</td>\n",
       "      <td>5.000000</td>\n",
       "      <td>330.000000</td>\n",
       "      <td>19.100000</td>\n",
       "      <td>391.240000</td>\n",
       "      <td>11.300000</td>\n",
       "      <td>21.400000</td>\n",
       "    </tr>\n",
       "    <tr>\n",
       "      <th>75%</th>\n",
       "      <td>3.674807</td>\n",
       "      <td>20.000000</td>\n",
       "      <td>18.100000</td>\n",
       "      <td>0.000000</td>\n",
       "      <td>0.624000</td>\n",
       "      <td>6.630250</td>\n",
       "      <td>94.025000</td>\n",
       "      <td>5.222125</td>\n",
       "      <td>24.000000</td>\n",
       "      <td>666.000000</td>\n",
       "      <td>20.200000</td>\n",
       "      <td>395.810000</td>\n",
       "      <td>16.995000</td>\n",
       "      <td>25.525000</td>\n",
       "    </tr>\n",
       "    <tr>\n",
       "      <th>max</th>\n",
       "      <td>73.534100</td>\n",
       "      <td>100.000000</td>\n",
       "      <td>27.740000</td>\n",
       "      <td>1.000000</td>\n",
       "      <td>0.871000</td>\n",
       "      <td>8.780000</td>\n",
       "      <td>100.000000</td>\n",
       "      <td>12.126500</td>\n",
       "      <td>24.000000</td>\n",
       "      <td>711.000000</td>\n",
       "      <td>22.000000</td>\n",
       "      <td>396.900000</td>\n",
       "      <td>37.970000</td>\n",
       "      <td>50.000000</td>\n",
       "    </tr>\n",
       "  </tbody>\n",
       "</table>\n",
       "</div>"
      ],
      "text/plain": [
       "             CRIM          ZN       INDUS        CHAS         NOX          RM  \\\n",
       "count  476.000000  476.000000  476.000000  476.000000  476.000000  476.000000   \n",
       "mean     3.425809   11.911765   11.036513    0.071429    0.551840    6.298645   \n",
       "std      7.804001   23.668291    6.946327    0.257810    0.114333    0.713019   \n",
       "min      0.006320    0.000000    0.460000    0.000000    0.385000    3.561000   \n",
       "25%      0.080050    0.000000    5.085000    0.000000    0.448000    5.884750   \n",
       "50%      0.250895    0.000000    8.560000    0.000000    0.532000    6.214000   \n",
       "75%      3.674807   20.000000   18.100000    0.000000    0.624000    6.630250   \n",
       "max     73.534100  100.000000   27.740000    1.000000    0.871000    8.780000   \n",
       "\n",
       "              AGE         DIS         RAD         TAX     PTRATIO           B  \\\n",
       "count  476.000000  476.000000  476.000000  476.000000  476.000000  476.000000   \n",
       "mean    68.247059    3.842749    9.571429  408.466387   18.467017  355.221218   \n",
       "std     28.256380    2.127558    8.738369  169.182483    2.179615   93.688016   \n",
       "min      2.900000    1.129600    1.000000  187.000000   12.600000    0.320000   \n",
       "25%     44.225000    2.109150    4.000000  278.500000   17.375000  375.782500   \n",
       "50%     76.600000    3.275900    5.000000  330.000000   19.100000  391.240000   \n",
       "75%     94.025000    5.222125   24.000000  666.000000   20.200000  395.810000   \n",
       "max    100.000000   12.126500   24.000000  711.000000   22.000000  396.900000   \n",
       "\n",
       "            LSTAT        MDEV  \n",
       "count  476.000000  476.000000  \n",
       "mean    12.620756   22.773950  \n",
       "std      7.247511    9.367767  \n",
       "min      1.730000    5.000000  \n",
       "25%      6.840000   17.100000  \n",
       "50%     11.300000   21.400000  \n",
       "75%     16.995000   25.525000  \n",
       "max     37.970000   50.000000  "
      ]
     },
     "execution_count": 4,
     "metadata": {},
     "output_type": "execute_result"
    }
   ],
   "source": [
    "data.describe()"
   ]
  },
  {
   "cell_type": "code",
   "execution_count": 5,
   "id": "30e5797b",
   "metadata": {},
   "outputs": [
    {
     "name": "stdout",
     "output_type": "stream",
     "text": [
      "CRIM\n"
     ]
    },
    {
     "data": {
      "image/png": "[encoded data removed]",
      "text/plain": [
       "<Figure size 432x288 with 1 Axes>"
      ]
     },
     "metadata": {
      "needs_background": "light"
     },
     "output_type": "display_data"
    },
    {
     "name": "stdout",
     "output_type": "stream",
     "text": [
      "ZN\n"
     ]
    },
    {
     "data": {
      "image/png": "[encoded data removed]",
      "text/plain": [
       "<Figure size 432x288 with 1 Axes>"
      ]
     },
     "metadata": {
      "needs_background": "light"
     },
     "output_type": "display_data"
    },
    {
     "name": "stdout",
     "output_type": "stream",
     "text": [
      "INDUS\n"
     ]
    },
    {
     "data": {
      "image/png": "[encoded data removed]",
      "text/plain": [
       "<Figure size 432x288 with 1 Axes>"
      ]
     },
     "metadata": {
      "needs_background": "light"
     },
     "output_type": "display_data"
    },
    {
     "name": "stdout",
     "output_type": "stream",
     "text": [
      "CHAS\n"
     ]
    },
    {
     "data": {
      "image/png": "[encoded data removed]",
      "text/plain": [
       "<Figure size 432x288 with 1 Axes>"
      ]
     },
     "metadata": {
      "needs_background": "light"
     },
     "output_type": "display_data"
    },
    {
     "name": "stdout",
     "output_type": "stream",
     "text": [
      "NOX\n"
     ]
    },
    {
     "data": {
      "image/png": "[encoded data removed]",
      "text/plain": [
       "<Figure size 432x288 with 1 Axes>"
      ]
     },
     "metadata": {
      "needs_background": "light"
     },
     "output_type": "display_data"
    },
    {
     "name": "stdout",
     "output_type": "stream",
     "text": [
      "RM\n"
     ]
    },
    {
     "data": {
      "image/png": "[encoded data removed]",
      "text/plain": [
       "<Figure size 432x288 with 1 Axes>"
      ]
     },
     "metadata": {
      "needs_background": "light"
     },
     "output_type": "display_data"
    },
    {
     "name": "stdout",
     "output_type": "stream",
     "text": [
      "AGE\n"
     ]
    },
    {
     "data": {
      "image/png": "[encoded data removed]",
      "text/plain": [
       "<Figure size 432x288 with 1 Axes>"
      ]
     },
     "metadata": {
      "needs_background": "light"
     },
     "output_type": "display_data"
    },
    {
     "name": "stdout",
     "output_type": "stream",
     "text": [
      "DIS\n"
     ]
    },
    {
     "data": {
      "image/png": "[encoded data removed]",
      "text/plain": [
       "<Figure size 432x288 with 1 Axes>"
      ]
     },
     "metadata": {
      "needs_background": "light"
     },
     "output_type": "display_data"
    },
    {
     "name": "stdout",
     "output_type": "stream",
     "text": [
      "RAD\n"
     ]
    },
    {
     "data": {
      "image/png": "[encoded data removed]",
      "text/plain": [
       "<Figure size 432x288 with 1 Axes>"
      ]
     },
     "metadata": {
      "needs_background": "light"
     },
     "output_type": "display_data"
    },
    {
     "name": "stdout",
     "output_type": "stream",
     "text": [
      "TAX\n"
     ]
    },
    {
     "data": {
      "image/png": "[encoded data removed]",
      "text/plain": [
       "<Figure size 432x288 with 1 Axes>"
      ]
     },
     "metadata": {
      "needs_background": "light"
     },
     "output_type": "display_data"
    },
    {
     "name": "stdout",
     "output_type": "stream",
     "text": [
      "PTRATIO\n"
     ]
    },
    {
     "data": {
      "image/png": "[encoded data removed]",
      "text/plain": [
       "<Figure size 432x288 with 1 Axes>"
      ]
     },
     "metadata": {
      "needs_background": "light"
     },
     "output_type": "display_data"
    },
    {
     "name": "stdout",
     "output_type": "stream",
     "text": [
      "B\n"
     ]
    },
    {
     "data": {
      "image/png": "[encoded data removed]",
      "text/plain": [
       "<Figure size 432x288 with 1 Axes>"
      ]
     },
     "metadata": {
      "needs_background": "light"
     },
     "output_type": "display_data"
    },
    {
     "name": "stdout",
     "output_type": "stream",
     "text": [
      "LSTAT\n"
     ]
    },
    {
     "data": {
      "image/png": "[encoded data removed]",
      "text/plain": [
       "<Figure size 432x288 with 1 Axes>"
      ]
     },
     "metadata": {
      "needs_background": "light"
     },
     "output_type": "display_data"
    },
    {
     "name": "stdout",
     "output_type": "stream",
     "text": [
      "MDEV\n"
     ]
    },
    {
     "data": {
      "image/png": "[encoded data removed]",
      "text/plain": [
       "<Figure size 432x288 with 1 Axes>"
      ]
     },
     "metadata": {
      "needs_background": "light"
     },
     "output_type": "display_data"
    }
   ],
   "source": [
    "for c in data.columns:\n",
    "    print(c)\n",
    "    pp.plot(data.index, data[c], color='red')\n",
    "    pp.show()\n"
   ]
  },
  {
   "cell_type": "markdown",
   "id": "5c77f8fa",
   "metadata": {},
   "source": [
    "### Preprocessing"
   ]
  },
  {
   "cell_type": "markdown",
   "id": "58c72c09",
   "metadata": {},
   "source": [
    "### NA 수 Count"
   ]
  },
  {
   "cell_type": "code",
   "execution_count": 6,
   "metadata": {},
   "outputs": [
    {
     "data": {
      "text/plain": [
       "CRIM       0\n",
       "ZN         0\n",
       "INDUS      0\n",
       "CHAS       0\n",
       "NOX        0\n",
       "RM         0\n",
       "AGE        0\n",
       "DIS        0\n",
       "RAD        0\n",
       "TAX        0\n",
       "PTRATIO    0\n",
       "B          0\n",
       "LSTAT      0\n",
       "MDEV       0\n",
       "dtype: int64"
      ]
     },
     "execution_count": 6,
     "metadata": {},
     "output_type": "execute_result"
    }
   ],
   "source": [
    "data.isna().sum()"
   ]
  },
  {
   "cell_type": "code",
   "execution_count": 7,
   "id": "ba255442",
   "metadata": {},
   "outputs": [],
   "source": [
    "data['ZN'] = data['ZN'].fillna(0)\n",
    "data['NOX'] = data['NOX'].fillna(data.NOX.mean())"
   ]
  },
  {
   "cell_type": "markdown",
   "id": "040a7611",
   "metadata": {},
   "source": [
    "#### 상관계수"
   ]
  },
  {
   "cell_type": "code",
   "execution_count": 8,
   "id": "48fc4058",
   "metadata": {},
   "outputs": [
    {
     "name": "stdout",
     "output_type": "stream",
     "text": [
      "CRIM\n",
      "CRIM       1.000000\n",
      "ZN        -0.216086\n",
      "INDUS      0.424929\n",
      "CHAS      -0.055244\n",
      "NOX        0.454208\n",
      "RM        -0.282908\n",
      "AGE        0.371433\n",
      "DIS       -0.393464\n",
      "RAD        0.648849\n",
      "TAX        0.604748\n",
      "PTRATIO    0.298684\n",
      "B         -0.437457\n",
      "LSTAT      0.481684\n",
      "MDEV      -0.400791\n",
      "dtype: float64\n",
      "ZN\n",
      "CRIM      -0.216086\n",
      "ZN         1.000000\n",
      "INDUS     -0.538711\n",
      "CHAS      -0.046577\n",
      "NOX       -0.526979\n",
      "RM         0.308723\n",
      "AGE       -0.577162\n",
      "DIS        0.673172\n",
      "RAD       -0.322392\n",
      "TAX       -0.322104\n",
      "PTRATIO   -0.412658\n",
      "B          0.183948\n",
      "LSTAT     -0.416251\n",
      "MDEV       0.353672\n",
      "dtype: float64\n",
      "INDUS\n",
      "CRIM       0.424929\n",
      "ZN        -0.538711\n",
      "INDUS      1.000000\n",
      "CHAS       0.059189\n",
      "NOX        0.765611\n",
      "RM        -0.400302\n",
      "AGE        0.647328\n",
      "DIS       -0.707403\n",
      "RAD        0.598038\n",
      "TAX        0.722439\n",
      "PTRATIO    0.414374\n",
      "B         -0.362375\n",
      "LSTAT      0.602716\n",
      "MDEV      -0.482587\n",
      "dtype: float64\n",
      "CHAS\n",
      "CRIM      -0.055244\n",
      "ZN        -0.046577\n",
      "INDUS      0.059189\n",
      "CHAS       1.000000\n",
      "NOX        0.081161\n",
      "RM         0.103303\n",
      "AGE        0.087883\n",
      "DIS       -0.100652\n",
      "RAD       -0.004138\n",
      "TAX       -0.037255\n",
      "PTRATIO   -0.113813\n",
      "B          0.055270\n",
      "LSTAT     -0.053819\n",
      "MDEV       0.179385\n",
      "dtype: float64\n",
      "NOX\n",
      "CRIM       0.454208\n",
      "ZN        -0.526979\n",
      "INDUS      0.765611\n",
      "CHAS       0.081161\n",
      "NOX        1.000000\n",
      "RM        -0.298967\n",
      "AGE        0.735382\n",
      "DIS       -0.771404\n",
      "RAD        0.634210\n",
      "TAX        0.682739\n",
      "PTRATIO    0.225593\n",
      "B         -0.394537\n",
      "LSTAT      0.596099\n",
      "MDEV      -0.423670\n",
      "dtype: float64\n",
      "RM\n",
      "CRIM      -0.282908\n",
      "ZN         0.308723\n",
      "INDUS     -0.400302\n",
      "CHAS       0.103303\n",
      "NOX       -0.298967\n",
      "RM         1.000000\n",
      "AGE       -0.247455\n",
      "DIS        0.203040\n",
      "RAD       -0.234075\n",
      "TAX       -0.315420\n",
      "PTRATIO   -0.385274\n",
      "B          0.129734\n",
      "LSTAT     -0.634538\n",
      "MDEV       0.705126\n",
      "dtype: float64\n",
      "AGE\n",
      "CRIM       0.371433\n",
      "ZN        -0.577162\n",
      "INDUS      0.647328\n",
      "CHAS       0.087883\n",
      "NOX        0.735382\n",
      "RM        -0.247455\n",
      "AGE        1.000000\n",
      "DIS       -0.744295\n",
      "RAD        0.455808\n",
      "TAX        0.497908\n",
      "PTRATIO    0.276531\n",
      "B         -0.279942\n",
      "LSTAT      0.598643\n",
      "MDEV      -0.370440\n",
      "dtype: float64\n",
      "DIS\n",
      "CRIM      -0.393464\n",
      "ZN         0.673172\n",
      "INDUS     -0.707403\n",
      "CHAS      -0.100652\n",
      "NOX       -0.771404\n",
      "RM         0.203040\n",
      "AGE       -0.744295\n",
      "DIS        1.000000\n",
      "RAD       -0.495347\n",
      "TAX       -0.527827\n",
      "PTRATIO   -0.245786\n",
      "B          0.298670\n",
      "LSTAT     -0.489745\n",
      "MDEV       0.234028\n",
      "dtype: float64\n",
      "RAD\n",
      "CRIM       0.648849\n",
      "ZN        -0.322392\n",
      "INDUS      0.598038\n",
      "CHAS      -0.004138\n",
      "NOX        0.634210\n",
      "RM        -0.234075\n",
      "AGE        0.455808\n",
      "DIS       -0.495347\n",
      "RAD        1.000000\n",
      "TAX        0.909147\n",
      "PTRATIO    0.460128\n",
      "B         -0.452938\n",
      "LSTAT      0.480228\n",
      "MDEV      -0.379955\n",
      "dtype: float64\n",
      "TAX\n",
      "CRIM       0.604748\n",
      "ZN        -0.322104\n",
      "INDUS      0.722439\n",
      "CHAS      -0.037255\n",
      "NOX        0.682739\n",
      "RM        -0.315420\n",
      "AGE        0.497908\n",
      "DIS       -0.527827\n",
      "RAD        0.909147\n",
      "TAX        1.000000\n",
      "PTRATIO    0.469522\n",
      "B         -0.448585\n",
      "LSTAT      0.533871\n",
      "MDEV      -0.469061\n",
      "dtype: float64\n",
      "PTRATIO\n",
      "CRIM       0.298684\n",
      "ZN        -0.412658\n",
      "INDUS      0.414374\n",
      "CHAS      -0.113813\n",
      "NOX        0.225593\n",
      "RM        -0.385274\n",
      "AGE        0.276531\n",
      "DIS       -0.245786\n",
      "RAD        0.460128\n",
      "TAX        0.469522\n",
      "PTRATIO    1.000000\n",
      "B         -0.183533\n",
      "LSTAT      0.383191\n",
      "MDEV      -0.520229\n",
      "dtype: float64\n",
      "B\n",
      "CRIM      -0.437457\n",
      "ZN         0.183948\n",
      "INDUS     -0.362375\n",
      "CHAS       0.055270\n",
      "NOX       -0.394537\n",
      "RM         0.129734\n",
      "AGE       -0.279942\n",
      "DIS        0.298670\n",
      "RAD       -0.452938\n",
      "TAX       -0.448585\n",
      "PTRATIO   -0.183533\n",
      "B          1.000000\n",
      "LSTAT     -0.371558\n",
      "MDEV       0.344343\n",
      "dtype: float64\n",
      "LSTAT\n",
      "CRIM       0.481684\n",
      "ZN        -0.416251\n",
      "INDUS      0.602716\n",
      "CHAS      -0.053819\n",
      "NOX        0.596099\n",
      "RM        -0.634538\n",
      "AGE        0.598643\n",
      "DIS       -0.489745\n",
      "RAD        0.480228\n",
      "TAX        0.533871\n",
      "PTRATIO    0.383191\n",
      "B         -0.371558\n",
      "LSTAT      1.000000\n",
      "MDEV      -0.740007\n",
      "dtype: float64\n",
      "MDEV\n",
      "CRIM      -0.400791\n",
      "ZN         0.353672\n",
      "INDUS     -0.482587\n",
      "CHAS       0.179385\n",
      "NOX       -0.423670\n",
      "RM         0.705126\n",
      "AGE       -0.370440\n",
      "DIS        0.234028\n",
      "RAD       -0.379955\n",
      "TAX       -0.469061\n",
      "PTRATIO   -0.520229\n",
      "B          0.344343\n",
      "LSTAT     -0.740007\n",
      "MDEV       1.000000\n",
      "dtype: float64\n"
     ]
    }
   ],
   "source": [
    "for col in data.columns:\n",
    "    print(col)\n",
    "    print(data.corrwith(data[col]))\n",
    "#print(data.iloc[:, [0, 1, 2]])"
   ]
  },
  {
   "cell_type": "markdown",
   "id": "d4e8ecd6",
   "metadata": {},
   "source": [
    "#### RAD, TAX : 0.909147, delete RAD col\n",
    "#### CHAS : Charles River dummy variable (= 1 if tract bounds river; 0 otherwise), delete CHAS col"
   ]
  },
  {
   "cell_type": "code",
   "execution_count": 9,
   "id": "68ed396e",
   "metadata": {},
   "outputs": [
    {
     "data": {
      "text/html": [
       "<div>\n",
       "<style scoped>\n",
       "    .dataframe tbody tr th:only-of-type {\n",
       "        vertical-align: middle;\n",
       "    }\n",
       "\n",
       "    .dataframe tbody tr th {\n",
       "        vertical-align: top;\n",
       "    }\n",
       "\n",
       "    .dataframe thead th {\n",
       "        text-align: right;\n",
       "    }\n",
       "</style>\n",
       "<table border=\"1\" class=\"dataframe\">\n",
       "  <thead>\n",
       "    <tr style=\"text-align: right;\">\n",
       "      <th></th>\n",
       "      <th>CRIM</th>\n",
       "      <th>ZN</th>\n",
       "      <th>INDUS</th>\n",
       "      <th>CHAS</th>\n",
       "      <th>NOX</th>\n",
       "      <th>RM</th>\n",
       "      <th>AGE</th>\n",
       "      <th>DIS</th>\n",
       "      <th>RAD</th>\n",
       "      <th>TAX</th>\n",
       "      <th>PTRATIO</th>\n",
       "      <th>B</th>\n",
       "      <th>LSTAT</th>\n",
       "      <th>MDEV</th>\n",
       "    </tr>\n",
       "  </thead>\n",
       "  <tbody>\n",
       "    <tr>\n",
       "      <th>0</th>\n",
       "      <td>0.00632</td>\n",
       "      <td>18.0</td>\n",
       "      <td>2.31</td>\n",
       "      <td>0</td>\n",
       "      <td>0.538</td>\n",
       "      <td>6.575</td>\n",
       "      <td>65.2</td>\n",
       "      <td>4.0900</td>\n",
       "      <td>1</td>\n",
       "      <td>296</td>\n",
       "      <td>15.3</td>\n",
       "      <td>396.90</td>\n",
       "      <td>4.98</td>\n",
       "      <td>24.0</td>\n",
       "    </tr>\n",
       "    <tr>\n",
       "      <th>1</th>\n",
       "      <td>0.02731</td>\n",
       "      <td>0.0</td>\n",
       "      <td>7.07</td>\n",
       "      <td>0</td>\n",
       "      <td>0.469</td>\n",
       "      <td>6.421</td>\n",
       "      <td>78.9</td>\n",
       "      <td>4.9671</td>\n",
       "      <td>2</td>\n",
       "      <td>242</td>\n",
       "      <td>17.8</td>\n",
       "      <td>396.90</td>\n",
       "      <td>9.14</td>\n",
       "      <td>21.6</td>\n",
       "    </tr>\n",
       "    <tr>\n",
       "      <th>2</th>\n",
       "      <td>0.02729</td>\n",
       "      <td>0.0</td>\n",
       "      <td>7.07</td>\n",
       "      <td>0</td>\n",
       "      <td>0.469</td>\n",
       "      <td>7.185</td>\n",
       "      <td>61.1</td>\n",
       "      <td>4.9671</td>\n",
       "      <td>2</td>\n",
       "      <td>242</td>\n",
       "      <td>17.8</td>\n",
       "      <td>392.83</td>\n",
       "      <td>4.03</td>\n",
       "      <td>34.7</td>\n",
       "    </tr>\n",
       "    <tr>\n",
       "      <th>3</th>\n",
       "      <td>0.03237</td>\n",
       "      <td>0.0</td>\n",
       "      <td>2.18</td>\n",
       "      <td>0</td>\n",
       "      <td>0.458</td>\n",
       "      <td>6.998</td>\n",
       "      <td>45.8</td>\n",
       "      <td>6.0622</td>\n",
       "      <td>3</td>\n",
       "      <td>222</td>\n",
       "      <td>18.7</td>\n",
       "      <td>394.63</td>\n",
       "      <td>2.94</td>\n",
       "      <td>33.4</td>\n",
       "    </tr>\n",
       "    <tr>\n",
       "      <th>4</th>\n",
       "      <td>0.06905</td>\n",
       "      <td>0.0</td>\n",
       "      <td>2.18</td>\n",
       "      <td>0</td>\n",
       "      <td>0.458</td>\n",
       "      <td>7.147</td>\n",
       "      <td>54.2</td>\n",
       "      <td>6.0622</td>\n",
       "      <td>3</td>\n",
       "      <td>222</td>\n",
       "      <td>18.7</td>\n",
       "      <td>396.90</td>\n",
       "      <td>5.33</td>\n",
       "      <td>36.2</td>\n",
       "    </tr>\n",
       "    <tr>\n",
       "      <th>...</th>\n",
       "      <td>...</td>\n",
       "      <td>...</td>\n",
       "      <td>...</td>\n",
       "      <td>...</td>\n",
       "      <td>...</td>\n",
       "      <td>...</td>\n",
       "      <td>...</td>\n",
       "      <td>...</td>\n",
       "      <td>...</td>\n",
       "      <td>...</td>\n",
       "      <td>...</td>\n",
       "      <td>...</td>\n",
       "      <td>...</td>\n",
       "      <td>...</td>\n",
       "    </tr>\n",
       "    <tr>\n",
       "      <th>471</th>\n",
       "      <td>0.06263</td>\n",
       "      <td>0.0</td>\n",
       "      <td>11.93</td>\n",
       "      <td>0</td>\n",
       "      <td>0.573</td>\n",
       "      <td>6.593</td>\n",
       "      <td>69.1</td>\n",
       "      <td>2.4786</td>\n",
       "      <td>1</td>\n",
       "      <td>273</td>\n",
       "      <td>21.0</td>\n",
       "      <td>391.99</td>\n",
       "      <td>9.67</td>\n",
       "      <td>22.4</td>\n",
       "    </tr>\n",
       "    <tr>\n",
       "      <th>472</th>\n",
       "      <td>0.04527</td>\n",
       "      <td>0.0</td>\n",
       "      <td>11.93</td>\n",
       "      <td>0</td>\n",
       "      <td>0.573</td>\n",
       "      <td>6.120</td>\n",
       "      <td>76.7</td>\n",
       "      <td>2.2875</td>\n",
       "      <td>1</td>\n",
       "      <td>273</td>\n",
       "      <td>21.0</td>\n",
       "      <td>396.90</td>\n",
       "      <td>9.08</td>\n",
       "      <td>20.6</td>\n",
       "    </tr>\n",
       "    <tr>\n",
       "      <th>473</th>\n",
       "      <td>0.06076</td>\n",
       "      <td>0.0</td>\n",
       "      <td>11.93</td>\n",
       "      <td>0</td>\n",
       "      <td>0.573</td>\n",
       "      <td>6.976</td>\n",
       "      <td>91.0</td>\n",
       "      <td>2.1675</td>\n",
       "      <td>1</td>\n",
       "      <td>273</td>\n",
       "      <td>21.0</td>\n",
       "      <td>396.90</td>\n",
       "      <td>5.64</td>\n",
       "      <td>23.9</td>\n",
       "    </tr>\n",
       "    <tr>\n",
       "      <th>474</th>\n",
       "      <td>0.10959</td>\n",
       "      <td>0.0</td>\n",
       "      <td>11.93</td>\n",
       "      <td>0</td>\n",
       "      <td>0.573</td>\n",
       "      <td>6.794</td>\n",
       "      <td>89.3</td>\n",
       "      <td>2.3889</td>\n",
       "      <td>1</td>\n",
       "      <td>273</td>\n",
       "      <td>21.0</td>\n",
       "      <td>393.45</td>\n",
       "      <td>6.48</td>\n",
       "      <td>22.0</td>\n",
       "    </tr>\n",
       "    <tr>\n",
       "      <th>475</th>\n",
       "      <td>0.04741</td>\n",
       "      <td>0.0</td>\n",
       "      <td>11.93</td>\n",
       "      <td>0</td>\n",
       "      <td>0.573</td>\n",
       "      <td>6.030</td>\n",
       "      <td>80.8</td>\n",
       "      <td>2.5050</td>\n",
       "      <td>1</td>\n",
       "      <td>273</td>\n",
       "      <td>21.0</td>\n",
       "      <td>396.90</td>\n",
       "      <td>7.88</td>\n",
       "      <td>11.9</td>\n",
       "    </tr>\n",
       "  </tbody>\n",
       "</table>\n",
       "<p>476 rows × 14 columns</p>\n",
       "</div>"
      ],
      "text/plain": [
       "        CRIM    ZN  INDUS  CHAS    NOX     RM   AGE     DIS  RAD  TAX  \\\n",
       "0    0.00632  18.0   2.31     0  0.538  6.575  65.2  4.0900    1  296   \n",
       "1    0.02731   0.0   7.07     0  0.469  6.421  78.9  4.9671    2  242   \n",
       "2    0.02729   0.0   7.07     0  0.469  7.185  61.1  4.9671    2  242   \n",
       "3    0.03237   0.0   2.18     0  0.458  6.998  45.8  6.0622    3  222   \n",
       "4    0.06905   0.0   2.18     0  0.458  7.147  54.2  6.0622    3  222   \n",
       "..       ...   ...    ...   ...    ...    ...   ...     ...  ...  ...   \n",
       "471  0.06263   0.0  11.93     0  0.573  6.593  69.1  2.4786    1  273   \n",
       "472  0.04527   0.0  11.93     0  0.573  6.120  76.7  2.2875    1  273   \n",
       "473  0.06076   0.0  11.93     0  0.573  6.976  91.0  2.1675    1  273   \n",
       "474  0.10959   0.0  11.93     0  0.573  6.794  89.3  2.3889    1  273   \n",
       "475  0.04741   0.0  11.93     0  0.573  6.030  80.8  2.5050    1  273   \n",
       "\n",
       "     PTRATIO       B  LSTAT  MDEV  \n",
       "0       15.3  396.90   4.98  24.0  \n",
       "1       17.8  396.90   9.14  21.6  \n",
       "2       17.8  392.83   4.03  34.7  \n",
       "3       18.7  394.63   2.94  33.4  \n",
       "4       18.7  396.90   5.33  36.2  \n",
       "..       ...     ...    ...   ...  \n",
       "471     21.0  391.99   9.67  22.4  \n",
       "472     21.0  396.90   9.08  20.6  \n",
       "473     21.0  396.90   5.64  23.9  \n",
       "474     21.0  393.45   6.48  22.0  \n",
       "475     21.0  396.90   7.88  11.9  \n",
       "\n",
       "[476 rows x 14 columns]"
      ]
     },
     "execution_count": 9,
     "metadata": {},
     "output_type": "execute_result"
    }
   ],
   "source": [
    "#data.drop(['RAD'], axis='columns', inplace=True)\n",
    "#data.drop(['CHAS'], axis='columns', inplace=True)\n",
    "data"
   ]
  },
  {
   "cell_type": "markdown",
   "id": "60506918",
   "metadata": {},
   "source": [
    "### Column Def\n",
    "- ZN : proportion of residential land zoned for lots over 25,000 sq.ft.\n",
    "- NOX : nitrogen oxides concentration (parts per 10 million).\n",
    "\n",
    "Column Definition을 보고 na를 뭘로 fill 할 것인지 결정"
   ]
  },
  {
   "cell_type": "markdown",
   "id": "cd31ef6f",
   "metadata": {},
   "source": [
    "### fit 하기 전 reshape"
   ]
  },
  {
   "cell_type": "code",
   "execution_count": 10,
   "metadata": {},
   "outputs": [
    {
     "data": {
      "text/plain": [
       "476"
      ]
     },
     "execution_count": 10,
     "metadata": {},
     "output_type": "execute_result"
    }
   ],
   "source": [
    "total_cols = len(data.columns)\n",
    "x = data.iloc[:,:-1].values.reshape(-1,total_cols - 1)\n",
    "y = data.iloc[:,-1]\n",
    "len(x)"
   ]
  },
  {
   "cell_type": "code",
   "execution_count": 11,
   "id": "5e714a87",
   "metadata": {},
   "outputs": [
    {
     "data": {
      "text/plain": [
       "array([[6.3200e-03, 1.8000e+01, 2.3100e+00, ..., 1.5300e+01, 3.9690e+02,\n",
       "        4.9800e+00],\n",
       "       [2.7310e-02, 0.0000e+00, 7.0700e+00, ..., 1.7800e+01, 3.9690e+02,\n",
       "        9.1400e+00],\n",
       "       [2.7290e-02, 0.0000e+00, 7.0700e+00, ..., 1.7800e+01, 3.9283e+02,\n",
       "        4.0300e+00],\n",
       "       ...,\n",
       "       [6.0760e-02, 0.0000e+00, 1.1930e+01, ..., 2.1000e+01, 3.9690e+02,\n",
       "        5.6400e+00],\n",
       "       [1.0959e-01, 0.0000e+00, 1.1930e+01, ..., 2.1000e+01, 3.9345e+02,\n",
       "        6.4800e+00],\n",
       "       [4.7410e-02, 0.0000e+00, 1.1930e+01, ..., 2.1000e+01, 3.9690e+02,\n",
       "        7.8800e+00]])"
      ]
     },
     "execution_count": 11,
     "metadata": {},
     "output_type": "execute_result"
    }
   ],
   "source": [
    "x"
   ]
  },
  {
   "cell_type": "markdown",
   "id": "ccfd5ec6",
   "metadata": {},
   "source": [
    "### Train set / Test set 분리"
   ]
  },
  {
   "cell_type": "code",
   "execution_count": 12,
   "metadata": {},
   "outputs": [
    {
     "data": {
      "text/plain": [
       "((333, 13), (143, 13), (333,), (143,))"
      ]
     },
     "execution_count": 12,
     "metadata": {},
     "output_type": "execute_result"
    }
   ],
   "source": [
    "x_train, x_test, y_train, y_test = train_test_split(x, y, test_size=0.3)\n",
    "x_train.shape, x_test.shape, y_train.shape, y_test.shape"
   ]
  },
  {
   "cell_type": "markdown",
   "id": "f2065c1a",
   "metadata": {},
   "source": [
    "### Scaler\n",
    "\n",
    "- StandardScaler : 기본 스케일. 평균과 표준편차 사용  \n",
    "- MinMaxScaler : 최대/최소값이 각각 1, 0이 되도록 스케일링  \n",
    "- MaxAbsScaler : 최대절대값과 0이 각각 1, 0이 되도록 스케일링  \n",
    "- RobustScaler : 중앙값(median)과 IQR(interquartile range) 사용. 아웃라이어의 영향을 최소화  \n"
   ]
  },
  {
   "cell_type": "code",
   "execution_count": 13,
   "metadata": {},
   "outputs": [],
   "source": [
    "scaler = MinMaxScaler()\n",
    "scaler.fit(x_train)\n",
    "x_train_scaled = scaler.transform(x_train)\n",
    "x_test_scaled = scaler.transform(x_test)\n",
    "with open('lr_scaler.pkl', 'wb') as model_file:\n",
    "    pickle.dump(scaler, model_file)"
   ]
  },
  {
   "cell_type": "code",
   "execution_count": 14,
   "id": "7a289f74",
   "metadata": {},
   "outputs": [
    {
     "data": {
      "text/plain": [
       "array([[3.59328379e-02, 0.00000000e+00, 7.00879765e-01, ...,\n",
       "        2.23404255e-01, 2.22678905e-01, 3.97626932e-01],\n",
       "       [8.84936467e-04, 0.00000000e+00, 1.31598240e-01, ...,\n",
       "        4.25531915e-01, 9.85803621e-01, 1.43211921e-01],\n",
       "       [9.88213412e-02, 0.00000000e+00, 6.46627566e-01, ...,\n",
       "        8.08510638e-01, 0.00000000e+00, 4.33498896e-01],\n",
       "       ...,\n",
       "       [1.53678568e-03, 0.00000000e+00, 4.92302053e-01, ...,\n",
       "        4.04255319e-01, 1.00000000e+00, 4.46743929e-01],\n",
       "       [1.08165446e-03, 4.00000000e-01, 2.18108504e-01, ...,\n",
       "        5.31914894e-01, 1.00000000e+00, 1.50662252e-01],\n",
       "       [1.12887561e-02, 0.00000000e+00, 2.81524927e-01, ...,\n",
       "        8.93617021e-01, 9.77406828e-01, 3.05463576e-01]])"
      ]
     },
     "execution_count": 14,
     "metadata": {},
     "output_type": "execute_result"
    }
   ],
   "source": [
    "x_train_scaled"
   ]
  },
  {
   "cell_type": "markdown",
   "id": "8cc2a64e",
   "metadata": {},
   "source": [
    "### Linear Regression Fit"
   ]
  },
  {
   "cell_type": "code",
   "execution_count": 15,
   "metadata": {},
   "outputs": [],
   "source": [
    "lr = LinearRegression()\n",
    "lr.fit(x_train_scaled, y_train)\n",
    "pred = lr.predict(x_test_scaled)\n",
    "with open('lr_model.pkl', 'wb') as model_file:\n",
    "    pickle.dump(lr, model_file)\n"
   ]
  },
  {
   "cell_type": "code",
   "execution_count": 16,
   "metadata": {},
   "outputs": [],
   "source": [
    "from sklearn.metrics import mean_squared_error\n",
    "\n",
    "mse = mean_squared_error(y_test, pred)"
   ]
  },
  {
   "cell_type": "code",
   "execution_count": 17,
   "metadata": {},
   "outputs": [
    {
     "data": {
      "text/plain": [
       "5.651824405489362"
      ]
     },
     "execution_count": 17,
     "metadata": {},
     "output_type": "execute_result"
    }
   ],
   "source": [
    "np.sqrt(mse)"
   ]
  },
  {
   "cell_type": "code",
   "execution_count": 18,
   "id": "bca97f1b",
   "metadata": {},
   "outputs": [],
   "source": [
    "isANS = False\n",
    "if isANS:\n",
    "    ans = pd.read_csv('./prediction.csv')\n",
    "    ans.drop(['RAD'], axis='columns', inplace=True)\n",
    "    ans.drop(['CHAS'], axis='columns', inplace=True)\n",
    "    total_cols = len(ans.columns)\n",
    "    #print(ans)\n",
    "    #print(total_cols)\n",
    "    x_ans = ans.iloc[:,:].values.reshape(-1,total_cols)\n",
    "    #print(x_ans)\n",
    "    #data.iloc[:,:-1].values.reshape(-1,)\n",
    "    #y_ans = ans.iloc[:,-1]\n",
    "    scaler_ans = MinMaxScaler()\n",
    "    scaler_ans.fit(x_ans)\n",
    "    x_ans_scaled = scaler_ans.transform(x_ans)\n",
    "    pred_ans = lr.predict(x_ans_scaled)\n",
    "    print(pred_ans)\n",
    "    pd.DataFrame(pred_ans).to_csv(\"test.csv\", index=False)\n",
    "    #mse_ans = mean_squared_error(y_ans, pred_ans)\n",
    "    #print(f\"ans result = {np.sqrt(mse_ans)}\")"
   ]
  },
  {
   "cell_type": "code",
   "execution_count": 19,
   "id": "d4c04342",
   "metadata": {},
   "outputs": [
    {
     "ename": "ValueError",
     "evalue": "cannot reshape array of size 420 into shape (13)",
     "output_type": "error",
     "traceback": [
      "\u001b[0;31m---------------------------------------------------------------------------\u001b[0m",
      "\u001b[0;31mValueError\u001b[0m                                Traceback (most recent call last)",
      "\u001b[0;32m/tmp/ipykernel_18648/1797547985.py\u001b[0m in \u001b[0;36m<module>\u001b[0;34m\u001b[0m\n\u001b[1;32m      1\u001b[0m \u001b[0mans\u001b[0m \u001b[0;34m=\u001b[0m \u001b[0mpd\u001b[0m\u001b[0;34m.\u001b[0m\u001b[0mread_csv\u001b[0m\u001b[0;34m(\u001b[0m\u001b[0;34m'./answer.csv'\u001b[0m\u001b[0;34m)\u001b[0m\u001b[0;34m\u001b[0m\u001b[0;34m\u001b[0m\u001b[0m\n\u001b[1;32m      2\u001b[0m \u001b[0mtotal_cols\u001b[0m \u001b[0;34m=\u001b[0m \u001b[0mlen\u001b[0m\u001b[0;34m(\u001b[0m\u001b[0mans\u001b[0m\u001b[0;34m.\u001b[0m\u001b[0mcolumns\u001b[0m\u001b[0;34m)\u001b[0m\u001b[0;34m\u001b[0m\u001b[0;34m\u001b[0m\u001b[0m\n\u001b[0;32m----> 3\u001b[0;31m \u001b[0mx_ans\u001b[0m \u001b[0;34m=\u001b[0m \u001b[0mans\u001b[0m\u001b[0;34m.\u001b[0m\u001b[0miloc\u001b[0m\u001b[0;34m[\u001b[0m\u001b[0;34m:\u001b[0m\u001b[0;34m,\u001b[0m\u001b[0;34m:\u001b[0m\u001b[0;34m]\u001b[0m\u001b[0;34m.\u001b[0m\u001b[0mvalues\u001b[0m\u001b[0;34m.\u001b[0m\u001b[0mreshape\u001b[0m\u001b[0;34m(\u001b[0m\u001b[0;34m-\u001b[0m\u001b[0;36m1\u001b[0m\u001b[0;34m,\u001b[0m\u001b[0mtotal_cols\u001b[0m\u001b[0;34m-\u001b[0m\u001b[0;36m1\u001b[0m\u001b[0;34m)\u001b[0m\u001b[0;34m\u001b[0m\u001b[0;34m\u001b[0m\u001b[0m\n\u001b[0m\u001b[1;32m      4\u001b[0m \u001b[0mx_ans_scaled\u001b[0m \u001b[0;34m=\u001b[0m \u001b[0mscaler\u001b[0m\u001b[0;34m.\u001b[0m\u001b[0mtransform\u001b[0m\u001b[0;34m(\u001b[0m\u001b[0mx_ans\u001b[0m\u001b[0;34m)\u001b[0m\u001b[0;34m\u001b[0m\u001b[0;34m\u001b[0m\u001b[0m\n\u001b[1;32m      5\u001b[0m \u001b[0my_ans\u001b[0m \u001b[0;34m=\u001b[0m \u001b[0mans\u001b[0m\u001b[0;34m.\u001b[0m\u001b[0miloc\u001b[0m\u001b[0;34m[\u001b[0m\u001b[0;34m:\u001b[0m\u001b[0;34m,\u001b[0m\u001b[0;34m-\u001b[0m\u001b[0;36m1\u001b[0m\u001b[0;34m]\u001b[0m\u001b[0;34m\u001b[0m\u001b[0;34m\u001b[0m\u001b[0m\n",
      "\u001b[0;31mValueError\u001b[0m: cannot reshape array of size 420 into shape (13)"
     ]
    }
   ],
   "source": [
    "ans = pd.read_csv('./answer.csv')\n",
    "total_cols = len(ans.columns)\n",
    "x_ans = ans.iloc[:,:-1].values.reshape(-1,total_cols-1)\n",
    "x_ans_scaled = scaler.transform(x_ans)\n",
    "y_ans = ans.iloc[:,-1]\n",
    "pred_ans = lr.predict(x_ans_scaled)\n",
    "print(pred_ans)\n",
    "mse_ans = mean_squared_error(y_ans, pred_ans)\n",
    "print(f\"ans result = {np.sqrt(mse_ans)}\")"
   ]
  },
  {
   "cell_type": "code",
   "execution_count": null,
   "id": "521b3f9b",
   "metadata": {},
   "outputs": [],
   "source": [
    "pipeline = Pipeline([\n",
    "    ('scaler', MinMaxScaler()),\n",
    "    ('linear_regression', LinearRegression())\n",
    "])\n",
    "x_train, x_test, y_train, y_test = train_test_split(x, y, test_size=0.3)\n",
    "pipeline.fit(x_train, y_train)\n",
    "with open('model.pkl', 'wb') as model_file:\n",
    "    pickle.dump(pipeline, model_file)"
   ]
  },
  {
   "cell_type": "code",
   "execution_count": null,
   "id": "bbcf64b2",
   "metadata": {},
   "outputs": [
    {
     "name": "stdout",
     "output_type": "stream",
     "text": [
      "[[6.320e-03 1.800e+01 2.310e+00 5.380e-01 6.575e+00 6.520e+01 4.090e+00\n",
      "  2.960e+02 1.530e+01 3.969e+02 4.980e+00]]\n"
     ]
    },
    {
     "data": {
      "text/plain": [
       "array([29.06985294])"
      ]
     },
     "execution_count": 22,
     "metadata": {},
     "output_type": "execute_result"
    }
   ],
   "source": [
    "#x = data.iloc[:,:-1].values.reshape(-1,total_cols - 1)\n",
    "xtest = np.array([0.00632,\t18,\t2.31,\t0.538,\t6.575,\t65.2,\t4.09,\t296,\t15.3,\t396.9,\t4.98])\n",
    "xtest = xtest.reshape(-1, 11)\n",
    "print(xtest)\n",
    "pred = pipeline.predict(xtest)\n",
    "pred"
   ]
  },
  {
   "cell_type": "code",
   "execution_count": null,
   "id": "d3c23dc8",
   "metadata": {},
   "outputs": [
    {
     "name": "stdout",
     "output_type": "stream",
     "text": [
      "101 101\n",
      "[1.2744e-01 0.0000e+00 6.9100e+00 4.4800e-01 6.7700e+00 2.9000e+00\n",
      " 5.7209e+00 2.3300e+02 1.7900e+01 3.8541e+02 4.8400e+00]\n",
      "[1.7505e-01 0.0000e+00 5.9600e+00 4.9900e-01 5.9660e+00 3.0200e+01\n",
      " 3.8473e+00 2.7900e+02 1.9200e+01 3.9343e+02 1.0130e+01]\n",
      "[1.3600e-02 7.5000e+01 4.0000e+00 4.1000e-01 5.8880e+00 4.7600e+01\n",
      " 7.3197e+00 4.6900e+02 2.1100e+01 3.9690e+02 1.4800e+01]\n",
      "[  2.37934   0.       19.58      0.871     6.13    100.        1.4191\n",
      " 403.       14.7     172.91     27.8    ]\n",
      "[1.6760e-01 0.0000e+00 7.3800e+00 4.9300e-01 6.4260e+00 5.2300e+01\n",
      " 4.5404e+00 2.8700e+02 1.9600e+01 3.9690e+02 7.2000e+00]\n",
      "[3.8214e-01 0.0000e+00 6.2000e+00 5.0400e-01 8.0400e+00 8.6500e+01\n",
      " 3.2157e+00 3.0700e+02 1.7400e+01 3.8738e+02 3.1300e+00]\n",
      "[4.5900e-02 5.2500e+01 5.3200e+00 4.0500e-01 6.3150e+00 4.5600e+01\n",
      " 7.3172e+00 2.9300e+02 1.6600e+01 3.9690e+02 7.6000e+00]\n",
      "[  0.63796   0.        8.14      0.538     6.096    84.5       4.4619\n",
      " 307.       21.      380.02     10.26   ]\n",
      "[1.1747e-01 1.2500e+01 7.8700e+00 5.2400e-01 6.0090e+00 8.2900e+01\n",
      " 6.2267e+00 3.1100e+02 1.5200e+01 3.9690e+02 1.3270e+01]\n",
      "[1.0793e-01 0.0000e+00 8.5600e+00 5.2000e-01 6.1950e+00 5.4400e+01\n",
      " 2.7778e+00 3.8400e+02 2.0900e+01 3.9349e+02 1.3000e+01]\n",
      "[2.1770e-02 8.2500e+01 2.0300e+00 4.1500e-01 7.6100e+00 1.5700e+01\n",
      " 6.2700e+00 3.4800e+02 1.4700e+01 3.9538e+02 3.1100e+00]\n",
      "[3.9610e-02 0.0000e+00 5.1900e+00 5.1500e-01 6.0370e+00 3.4500e+01\n",
      " 5.9853e+00 2.2400e+02 2.0200e+01 3.9690e+02 8.0100e+00]\n",
      "[  0.7842   0.       8.14     0.538    5.99    81.7      4.2579 307.\n",
      "  21.     386.75    14.67  ]\n",
      "[7.95000e-02 6.00000e+01 1.69000e+00 4.11000e-01 6.57900e+00 3.59000e+01\n",
      " 1.07103e+01 4.11000e+02 1.83000e+01 3.70780e+02 5.49000e+00]\n",
      "[9.0600e-03 9.0000e+01 2.9700e+00 4.0000e-01 7.0880e+00 2.0800e+01\n",
      " 7.3073e+00 2.8500e+02 1.5300e+01 3.9472e+02 7.8500e+00]\n",
      "[2.7290e-02 0.0000e+00 7.0700e+00 4.6900e-01 7.1850e+00 6.1100e+01\n",
      " 4.9671e+00 2.4200e+02 1.7800e+01 3.9283e+02 4.0300e+00]\n",
      "[2.9819e-01 0.0000e+00 6.2000e+00 5.0400e-01 7.6860e+00 1.7000e+01\n",
      " 3.3751e+00 3.0700e+02 1.7400e+01 3.7751e+02 3.9200e+00]\n",
      "[  0.40771   0.        6.2       0.507     6.164    91.3       3.048\n",
      " 307.       17.4     395.24     21.46   ]\n",
      "[3.7578e-01 0.0000e+00 1.0590e+01 4.8900e-01 5.4040e+00 8.8600e+01\n",
      " 3.6650e+00 2.7700e+02 1.8600e+01 3.9524e+02 2.3980e+01]\n",
      "[4.30100e-02 8.00000e+01 1.91000e+00 4.13000e-01 5.66300e+00 2.19000e+01\n",
      " 1.05857e+01 3.34000e+02 2.20000e+01 3.82800e+02 8.05000e+00]\n",
      "[1.3110e-02 9.0000e+01 1.2200e+00 4.0300e-01 7.2490e+00 2.1900e+01\n",
      " 8.6966e+00 2.2600e+02 1.7900e+01 3.9593e+02 4.8100e+00]\n",
      "[  0.7857  20.       3.97     0.647    7.014   84.6      2.1329 264.\n",
      "  13.     384.07    14.79  ]\n",
      "[  0.47547   0.        9.9       0.544     6.113    58.8       4.0019\n",
      " 304.       18.4     396.23     12.73   ]\n",
      "[1.6439e-01 2.2000e+01 5.8600e+00 4.3100e-01 6.4330e+00 4.9100e+01\n",
      " 7.8265e+00 3.3000e+02 1.9100e+01 3.7471e+02 9.5200e+00]\n",
      "[5.7890e-02 1.2500e+01 6.0700e+00 4.0900e-01 5.8780e+00 2.1400e+01\n",
      " 6.4980e+00 3.4500e+02 1.8900e+01 3.9621e+02 8.1000e+00]\n",
      "[  0.95577   0.        8.14      0.538     6.047    88.8       4.4534\n",
      " 307.       21.      306.38     17.28   ]\n",
      "[  1.05393   0.        8.14      0.538     5.935    29.3       4.4986\n",
      " 307.       21.      386.85      6.58   ]\n",
      "[  0.54452   0.       21.89      0.624     6.151    97.9       1.6687\n",
      " 437.       21.2     396.9      18.46   ]\n",
      "[9.0650e-02 2.0000e+01 6.9600e+00 4.6400e-01 5.9200e+00 6.1500e+01\n",
      " 3.9175e+00 2.2300e+02 1.8600e+01 3.9134e+02 1.3650e+01]\n",
      "[3.5020e-02 8.0000e+01 4.9500e+00 4.1100e-01 6.8610e+00 2.7900e+01\n",
      " 5.1167e+00 2.4500e+02 1.9200e+01 3.9690e+02 3.3300e+00]\n",
      "[4.2030e-02 2.8000e+01 1.5040e+01 4.6400e-01 6.4420e+00 5.3600e+01\n",
      " 3.6659e+00 2.7000e+02 1.8200e+01 3.9501e+02 8.1600e+00]\n",
      "[5.780e-02 0.000e+00 2.460e+00 4.880e-01 6.980e+00 5.840e+01 2.829e+00\n",
      " 1.930e+02 1.780e+01 3.969e+02 5.040e+00]\n",
      "[5.3600e-02 2.1000e+01 5.6400e+00 4.3900e-01 6.5110e+00 2.1100e+01\n",
      " 6.8147e+00 2.4300e+02 1.6800e+01 3.9690e+02 5.2800e+00]\n",
      "[  0.77299   0.        8.14      0.538     6.495    94.4       4.4547\n",
      " 307.       21.      387.94     12.8    ]\n",
      "[5.0830e-02 0.0000e+00 5.1900e+00 5.1500e-01 6.3160e+00 3.8100e+01\n",
      " 6.4584e+00 2.2400e+02 2.0200e+01 3.8971e+02 5.6800e+00]\n",
      "[  0.57529   0.        6.2       0.507     8.337    73.3       3.8384\n",
      " 307.       17.4     385.91      2.47   ]\n",
      "[  1.25179   0.        8.14      0.538     5.57     98.1       3.7979\n",
      " 307.       21.      376.57     21.02   ]\n",
      "[1.7120e-01 0.0000e+00 8.5600e+00 5.2000e-01 5.8360e+00 9.1900e+01\n",
      " 2.2110e+00 3.8400e+02 2.0900e+01 3.9567e+02 1.8660e+01]\n",
      "[1.0290e-01 3.0000e+01 4.9300e+00 4.2800e-01 6.3580e+00 5.2900e+01\n",
      " 7.0355e+00 3.0000e+02 1.6600e+01 3.7275e+02 1.1220e+01]\n",
      "[2.4522e-01 0.0000e+00 9.9000e+00 5.4400e-01 5.7820e+00 7.1700e+01\n",
      " 4.0317e+00 3.0400e+02 1.8400e+01 3.9690e+02 1.5940e+01]\n",
      "[6.5880e-02 0.0000e+00 2.4600e+00 4.8800e-01 7.7650e+00 8.3300e+01\n",
      " 2.7410e+00 1.9300e+02 1.7800e+01 3.9556e+02 7.5600e+00]\n",
      "[1.3058e-01 0.0000e+00 1.0010e+01 5.4700e-01 5.8720e+00 7.3100e+01\n",
      " 2.4775e+00 4.3200e+02 1.7800e+01 3.3863e+02 1.5370e+01]\n",
      "[1.2757e-01 3.0000e+01 4.9300e+00 4.2800e-01 6.3930e+00 7.8000e+00\n",
      " 7.0355e+00 3.0000e+02 1.6600e+01 3.7471e+02 5.1900e+00]\n",
      "[  4.0974   0.      19.58     0.871    5.468  100.       1.4118 403.\n",
      "  14.7    396.9     26.42  ]\n",
      "[3.4109e-01 0.0000e+00 7.3800e+00 4.9300e-01 6.4150e+00 4.0100e+01\n",
      " 4.7211e+00 2.8700e+02 1.9600e+01 3.9690e+02 6.1200e+00]\n",
      "[1.3554e-01 1.2500e+01 6.0700e+00 4.0900e-01 5.5940e+00 3.6800e+01\n",
      " 6.4980e+00 3.4500e+02 1.8900e+01 3.9690e+02 1.3090e+01]\n",
      "[  0.59005   0.       21.89      0.624     6.372    97.9       2.3274\n",
      " 437.       21.2     385.76     11.12   ]\n",
      "[  1.83377   0.       19.58      0.605     7.802    98.2       2.0407\n",
      " 403.       14.7     389.61      1.92   ]\n",
      "[4.2970e-02 5.2500e+01 5.3200e+00 4.0500e-01 6.5650e+00 2.2900e+01\n",
      " 7.3172e+00 2.9300e+02 1.6600e+01 3.7172e+02 9.5100e+00]\n",
      "[7.24400e-02 6.00000e+01 1.69000e+00 4.11000e-01 5.88400e+00 1.85000e+01\n",
      " 1.07103e+01 4.11000e+02 1.83000e+01 3.92330e+02 7.79000e+00]\n",
      "[5.0230e-02 3.5000e+01 6.0600e+00 4.3790e-01 5.7060e+00 2.8400e+01\n",
      " 6.6407e+00 3.0400e+02 1.6900e+01 3.9402e+02 1.2430e+01]\n",
      "[4.011e-02 8.000e+01 1.520e+00 4.040e-01 7.287e+00 3.410e+01 7.309e+00\n",
      " 3.290e+02 1.260e+01 3.969e+02 4.080e+00]\n",
      "[  0.85204   0.        8.14      0.538     5.965    89.2       4.0123\n",
      " 307.       21.      392.53     13.83   ]\n",
      "[  0.65665  20.        3.97      0.647     6.842   100.        2.0107\n",
      " 264.       13.      391.93      6.9    ]\n",
      "[  0.6147   0.       6.2      0.507    6.618   80.8      3.2721 307.\n",
      "  17.4    396.9      7.6   ]\n",
      "[1.9657e-01 2.2000e+01 5.8600e+00 4.3100e-01 6.2260e+00 7.9200e+01\n",
      " 8.0555e+00 3.3000e+02 1.9100e+01 3.7614e+02 1.0150e+01]\n",
      "[2.8955e-01 0.0000e+00 1.0590e+01 4.8900e-01 5.4120e+00 9.8000e+00\n",
      " 3.5875e+00 2.7700e+02 1.8600e+01 3.4893e+02 2.9550e+01]\n",
      "[2.9090e-01 0.0000e+00 2.1890e+01 6.2400e-01 6.1740e+00 9.3600e+01\n",
      " 1.6119e+00 4.3700e+02 2.1200e+01 3.8808e+02 2.4160e+01]\n",
      "[1.2650e-01 2.5000e+01 5.1300e+00 4.5300e-01 6.7620e+00 4.3400e+01\n",
      " 7.9809e+00 2.8400e+02 1.9700e+01 3.9558e+02 9.5000e+00]\n",
      "[8.3080e-02 0.0000e+00 2.4600e+00 4.8800e-01 5.6040e+00 8.9800e+01\n",
      " 2.9879e+00 1.9300e+02 1.7800e+01 3.9100e+02 1.3980e+01]\n",
      "[1.1425e-01 0.0000e+00 1.3890e+01 5.5000e-01 6.3730e+00 9.2400e+01\n",
      " 3.3633e+00 2.7600e+02 1.6400e+01 3.9374e+02 1.0500e+01]\n",
      "[1.3642e-01 0.0000e+00 1.0590e+01 4.8900e-01 5.8910e+00 2.2300e+01\n",
      " 3.9454e+00 2.7700e+02 1.8600e+01 3.9690e+02 1.0870e+01]\n",
      "[5.1880e-02 0.0000e+00 4.4900e+00 4.4900e-01 6.0150e+00 4.5100e+01\n",
      " 4.4272e+00 2.4700e+02 1.8500e+01 3.9599e+02 1.2860e+01]\n",
      "[1.2204e-01 0.0000e+00 2.8900e+00 4.4500e-01 6.6250e+00 5.7800e+01\n",
      " 3.4952e+00 2.7600e+02 1.8000e+01 3.5798e+02 6.6500e+00]\n",
      "[9.2660e-02 3.4000e+01 6.0900e+00 4.3300e-01 6.4950e+00 1.8400e+01\n",
      " 5.4917e+00 3.2900e+02 1.6100e+01 3.8361e+02 8.6700e+00]\n",
      "[1.4455e-01 1.2500e+01 7.8700e+00 5.2400e-01 6.1720e+00 9.6100e+01\n",
      " 5.9505e+00 3.1100e+02 1.5200e+01 3.9690e+02 1.9150e+01]\n",
      "[9.1640e-02 0.0000e+00 1.0810e+01 4.1300e-01 6.0650e+00 7.8000e+00\n",
      " 5.2873e+00 3.0500e+02 1.9200e+01 3.9091e+02 5.5200e+00]\n",
      "[  1.41385   0.       19.58      0.871     6.129    96.        1.7494\n",
      " 403.       14.7     321.02     15.12   ]\n",
      "[3.1130e-02 0.0000e+00 4.3900e+00 4.4200e-01 6.0140e+00 4.8500e+01\n",
      " 8.0136e+00 3.5200e+02 1.8800e+01 3.8564e+02 1.0530e+01]\n",
      "[2.5199e-01 0.0000e+00 1.0590e+01 4.8900e-01 5.7830e+00 7.2700e+01\n",
      " 4.3549e+00 2.7700e+02 1.8600e+01 3.8943e+02 1.8060e+01]\n",
      "[  1.42502   0.       19.58      0.871     6.51    100.        1.7659\n",
      " 403.       14.7     364.31      7.39   ]\n",
      "[  2.36862   0.       19.58      0.871     4.926    95.7       1.4608\n",
      " 403.       14.7     391.71     29.53   ]\n",
      "[1.3262e-01 0.0000e+00 8.5600e+00 5.2000e-01 5.8510e+00 9.6700e+01\n",
      " 2.1069e+00 3.8400e+02 2.0900e+01 3.9405e+02 1.6470e+01]\n",
      "[1.06590e-01 8.00000e+01 1.91000e+00 4.13000e-01 5.93600e+00 1.95000e+01\n",
      " 1.05857e+01 3.34000e+02 2.20000e+01 3.76040e+02 5.57000e+00]\n",
      "[  3.8497   0.      18.1      0.77     6.395   91.       2.5052 666.\n",
      "  20.2    391.34    13.27  ]\n",
      "[  1.19294   0.       21.89      0.624     6.326    97.7       2.271\n",
      " 437.       21.2     396.9      12.26   ]\n",
      "[  1.35472   0.        8.14      0.538     6.072   100.        4.175\n",
      " 307.       21.      376.73     13.04   ]\n",
      "[3.5510e-02 2.5000e+01 4.8600e+00 4.2600e-01 6.1670e+00 4.6700e+01\n",
      " 5.4007e+00 2.8100e+02 1.9000e+01 3.9064e+02 7.5100e+00]\n",
      "[1.1504e-01 0.0000e+00 2.8900e+00 4.4500e-01 6.1630e+00 6.9600e+01\n",
      " 3.4952e+00 2.7600e+02 1.8000e+01 3.9183e+02 1.1340e+01]\n",
      "[2.2188e-01 2.0000e+01 6.9600e+00 4.6400e-01 7.6910e+00 5.1800e+01\n",
      " 4.3665e+00 2.2300e+02 1.8600e+01 3.9077e+02 6.5800e+00]\n",
      "[3.7380e-02 0.0000e+00 5.1900e+00 5.1500e-01 6.3100e+00 3.8500e+01\n",
      " 6.4584e+00 2.2400e+02 2.0200e+01 3.8940e+02 6.7500e+00]\n",
      "[  2.33099   0.       19.58      0.871     5.186    93.8       1.5296\n",
      " 403.       14.7     356.99     28.32   ]\n",
      "[1.4320e-02 1.0000e+02 1.3200e+00 4.1100e-01 6.8160e+00 4.0500e+01\n",
      " 8.3248e+00 2.5600e+02 1.5100e+01 3.9290e+02 3.9500e+00]\n",
      "[3.768e-02 8.000e+01 1.520e+00 4.040e-01 7.274e+00 3.830e+01 7.309e+00\n",
      " 3.290e+02 1.260e+01 3.922e+02 6.620e+00]\n",
      "[1.3158e-01 0.0000e+00 1.0010e+01 5.4700e-01 6.1760e+00 7.2500e+01\n",
      " 2.7301e+00 4.3200e+02 1.7800e+01 3.9330e+02 1.2040e+01]\n",
      "[  0.82526  20.        3.97      0.647     7.327    94.5       2.0788\n",
      " 264.       13.      393.42     11.25   ]\n",
      "[4.9320e-02 3.3000e+01 2.1800e+00 4.7200e-01 6.8490e+00 7.0300e+01\n",
      " 3.1827e+00 2.2200e+02 1.8400e+01 3.9690e+02 7.5300e+00]\n",
      "[4.4170e-02 7.0000e+01 2.2400e+00 4.0000e-01 6.8710e+00 4.7400e+01\n",
      " 7.8278e+00 3.5800e+02 1.4800e+01 3.9086e+02 6.0700e+00]\n",
      "[1.9186e-01 0.0000e+00 7.3800e+00 4.9300e-01 6.4310e+00 1.4700e+01\n",
      " 5.4159e+00 2.8700e+02 1.9600e+01 3.9368e+02 5.0800e+00]\n",
      "[  0.49298   0.        9.9       0.544     6.635    82.5       3.3175\n",
      " 304.       18.4     396.9       4.54   ]\n",
      "[2.9850e-02 0.0000e+00 2.1800e+00 4.5800e-01 6.4300e+00 5.8700e+01\n",
      " 6.0622e+00 2.2200e+02 1.8700e+01 3.9412e+02 5.2100e+00]\n",
      "[6.9110e-02 4.5000e+01 3.4400e+00 4.3700e-01 6.7390e+00 3.0800e+01\n",
      " 6.4798e+00 3.9800e+02 1.5200e+01 3.8971e+02 4.6900e+00]\n",
      "[4.1130e-02 2.5000e+01 4.8600e+00 4.2600e-01 6.7270e+00 3.3500e+01\n",
      " 5.4007e+00 2.8100e+02 1.9000e+01 3.9690e+02 5.2900e+00]\n",
      "[6.320e-03 1.800e+01 2.310e+00 5.380e-01 6.575e+00 6.520e+01 4.090e+00\n",
      " 2.960e+02 1.530e+01 3.969e+02 4.980e+00]\n",
      "[5.6460e-02 0.0000e+00 1.2830e+01 4.3700e-01 6.2320e+00 5.3700e+01\n",
      " 5.0141e+00 3.9800e+02 1.8700e+01 3.8640e+02 1.2340e+01]\n",
      "[9.6040e-02 4.0000e+01 6.4100e+00 4.4700e-01 6.8540e+00 4.2800e+01\n",
      " 4.2673e+00 2.5400e+02 1.7600e+01 3.9690e+02 2.9800e+00]\n",
      "[3.8710e-02 5.2500e+01 5.3200e+00 4.0500e-01 6.2090e+00 3.1300e+01\n",
      " 7.3172e+00 2.9300e+02 1.6600e+01 3.9690e+02 7.1400e+00]\n",
      "[3.4006e-01 0.0000e+00 2.1890e+01 6.2400e-01 6.4580e+00 9.8900e+01\n",
      " 2.1185e+00 4.3700e+02 2.1200e+01 3.9504e+02 1.2600e+01]\n",
      "[  2.01019   0.       19.58      0.605     7.929    96.2       2.0459\n",
      " 403.       14.7     369.3       3.7    ]\n",
      "[1.0469e-01 4.0000e+01 6.4100e+00 4.4700e-01 7.2670e+00 4.9000e+01\n",
      " 4.7872e+00 2.5400e+02 1.7600e+01 3.8925e+02 6.0500e+00]\n",
      "[1.5380e-02 9.0000e+01 3.7500e+00 3.9400e-01 7.4540e+00 3.4200e+01\n",
      " 6.3361e+00 2.4400e+02 1.5900e+01 3.8634e+02 3.1100e+00]\n",
      "[31.72552399 22.06940846 13.7455516  18.91374676 25.16094441 41.63890963\n",
      " 24.72605415 19.13060973 20.11620701 20.76676309 40.07768968 21.38581103\n",
      " 17.88978484 21.54421885 34.32745828 33.94543961 40.62454793 21.14436203\n",
      " 13.27650224 12.71584689 34.4889066  34.63312971 22.15564574 21.9953545\n",
      " 19.17527247 16.64885604 20.72102271 18.31552371 21.56336416 32.67047224\n",
      " 27.87293627 34.34976554 28.50896105 22.27647284 23.7646538  44.64603355\n",
      " 12.83372785 15.53974859 23.64172881 17.85632679 40.39481746 17.25376004\n",
      " 26.75985932 16.92429379 25.6790381  15.16070691 20.91325601 41.51225474\n",
      " 27.3415706  15.60890529 18.71136811 36.96347669 17.81221578 33.78629326\n",
      " 28.01401651 18.61213375 14.9903609  17.55686335 25.82592964 18.56568234\n",
      " 25.84671324 22.20396758 22.05749094 28.30916202 28.00328828 20.42841068\n",
      " 23.41653424 22.08579578 17.14226575 17.69163192 27.29120908 10.26446256\n",
      " 15.88000309 15.72644227 18.98658576 20.89180963 18.51076694 22.96790749\n",
      " 23.18290655 39.42266957 23.50856461 12.44872153 31.44813346 36.20720257\n",
      " 21.16051532 37.93753333 31.62091198 29.70343931 26.29271852 28.01041135\n",
      " 25.43173801 29.03125245 29.18855484 29.06985294 20.90555672 32.97943703\n",
      " 24.36492347 21.57043775 42.35061383 35.60459796 39.10842726]\n"
     ]
    }
   ],
   "source": [
    "pred2 = pipeline.predict(x_test)\n",
    "print(len(x_test), len(pred2))\n",
    "for c in x_test:\n",
    "    print(c)\n",
    "print(pred2)"
   ]
  },
  {
   "cell_type": "code",
   "execution_count": null,
   "id": "c22a4f78",
   "metadata": {},
   "outputs": [],
   "source": []
  }
 ],
 "metadata": {
  "kernelspec": {
   "display_name": "Python 3",
   "language": "python",
   "name": "python3"
  },
  "language_info": {
   "codemirror_mode": {
    "name": "ipython",
    "version": 3
   },
   "file_extension": ".py",
   "mimetype": "text/x-python",
   "name": "python",
   "nbconvert_exporter": "python",
   "pygments_lexer": "ipython3",
   "version": "3.8.10"
  },
  "varInspector": {
   "cols": {
    "lenName": 16,
    "lenType": 16,
    "lenVar": 40
   },
   "kernels_config": {
    "python": {
     "delete_cmd_postfix": "",
     "delete_cmd_prefix": "del ",
     "library": "var_list.py",
     "varRefreshCmd": "print(var_dic_list())"
    },
    "r": {
     "delete_cmd_postfix": ") ",
     "delete_cmd_prefix": "rm(",
     "library": "var_list.r",
     "varRefreshCmd": "cat(var_dic_list()) "
    }
   },
   "types_to_exclude": [
    "module",
    "function",
    "builtin_function_or_method",
    "instance",
    "_Feature"
   ],
   "window_display": false
  }
 },
 "nbformat": 4,
 "nbformat_minor": 5
}
